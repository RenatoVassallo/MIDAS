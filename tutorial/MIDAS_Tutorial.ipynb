{
 "cells": [
  {
   "cell_type": "markdown",
   "id": "1d4a2398",
   "metadata": {},
   "source": [
    "# Mixed Data Sampling (MIDAS) Tutorial\n",
    "\n",
    "+ We work with two macroeconomic variables: `GDP growth` (quarterly) and a `leading economic indicator` (LEI) (monthly).\n",
    "+ The goal is to train a model that can use higher-frequency monthly data to update lower-frequency quarterly forecasts.\n",
    "+ We’ll use the **MIDAS Python package**, available [here](https://github.com/RenatoVassallo/MIDAS.git)"
   ]
  },
  {
   "cell_type": "code",
   "execution_count": null,
   "id": "e48ac9ca",
   "metadata": {},
   "outputs": [],
   "source": [
    "import pandas as pd\n",
    "import numpy as np\n",
    "import matplotlib.pyplot as plt\n",
    "\n",
    "# Load the dataset\n",
    "df_macro = pd.read_csv('macro_dataset.csv', parse_dates=['DATE'])\n",
    "df_macro.set_index('DATE', inplace=True)\n",
    "df_macro"
   ]
  },
  {
   "cell_type": "code",
   "execution_count": null,
   "id": "01f48a2a",
   "metadata": {},
   "outputs": [],
   "source": [
    "# Plot\n",
    "plt.figure(figsize=(10, 4))\n",
    "plt.plot(df_macro.index, df_macro['gdp_yoy'], label='GDP YoY', marker='o', linestyle='-', color='navy')\n",
    "plt.plot(df_macro.index, df_macro['lei_yoy'], label='LEI YoY', linestyle='-.', color='darkred')\n",
    "\n",
    "# Formatting\n",
    "plt.title('Macroeconomic indicators in different frequencies', fontsize=14)\n",
    "plt.xlabel('Date')\n",
    "plt.ylabel('Year-over-Year Change (%)')\n",
    "plt.legend()\n",
    "plt.xticks(rotation=0)\n",
    "plt.tight_layout()\n",
    "plt.show()"
   ]
  },
  {
   "cell_type": "markdown",
   "id": "2b3edfde",
   "metadata": {},
   "source": [
    "## 🧠 MIDAS Model Specification\n",
    "\n",
    "$$ y_t = c + \\beta_1 \\cdot \\sum_{k=1}^{3} w_k(\\theta_{11}, \\theta_{12}) \\cdot x_{t - \\frac{k}{3}} + \\lambda \\cdot y_{t-1} + \\varepsilon_t $$\n",
    "\n",
    "Where:\n",
    "+ \t$y_t$: low-frequency target (quarterly GDP YoY)\n",
    "+ \t$x_{t - \\frac{k}{3}}$: high-frequency regressor (LEI_YoY) at monthly lag k\n",
    "+ \t$w_k(\\theta_{11}, \\theta_{12})$: exponential Almon weights over 3 monthly lags\n",
    "+\t$c$: intercept\n",
    "+\t$\\beta_1$: coefficient on the weighted sum of high-frequency lags\n",
    "+ \t$\\lambda$: AR(1) coefficient\n",
    "+\t$\\varepsilon_t$: error term"
   ]
  },
  {
   "cell_type": "code",
   "execution_count": null,
   "id": "3f7e14c5",
   "metadata": {},
   "outputs": [],
   "source": [
    "from MIDAS import MIDAS\n",
    "\n",
    "midas_model = MIDAS(low_freq_series       = df_macro[\"gdp_yoy\"],\n",
    "                    high_freq_series_list = [df_macro[\"lei_yoy\"]],\n",
    "                    hf_lags_list          = [\"3m\"],\n",
    "                    lf_lags               = 1)"
   ]
  },
  {
   "cell_type": "markdown",
   "id": "f78f0408",
   "metadata": {},
   "source": [
    "+ If `GDP` is quarterly (e.g., March 2019), and `LEI` is monthly:\n",
    "+ Then `\"3m\"` means you’ll include the last 3 monthly values of `LEI` available prior to the current quarter:\n",
    "\n",
    "+ Example (forecasting 2019Q1 = March 2019):\n",
    "    + You would use: $ \\; \\text{\\texttt{LEI[Feb 2019]}, \\; \\texttt{LEI[Jan 2019]}, \\; \\texttt{LEI[Dec 2018]} }$.\n",
    "    + These are stacked and passed through a polynomial weighting function (like Beta or ExpAlmon), to produce a single regressor per high-frequency series."
   ]
  },
  {
   "cell_type": "code",
   "execution_count": null,
   "id": "9d502736",
   "metadata": {},
   "outputs": [],
   "source": [
    "from datetime import datetime\n",
    "\n",
    "# Prepare the data (optional, just to inspect the structure)\n",
    "result = midas_model.prepare_data(forecast_horizon = 1,\n",
    "                                  start_date       = datetime(2011, 3, 1),\n",
    "                                  end_date         = datetime(2014, 12, 1))\n",
    "\n",
    "# Display results\n",
    "print(\"Y Data (Training):\\n\",    result[\"y_train\"].head())\n",
    "print(\"\\nY Lags (Training):\\n\",  result[\"y_train_lags\"].head())\n",
    "print(\"\\nHF Data (Training):\\n\", result[\"x_train_list\"][0].head())\n",
    "print(\"\\nY Data (Test):\\n\",      result[\"y_forecast_target\"].head())\n",
    "print(\"\\nY Lags (Test):\\n\",      result[\"y_forecast_lags\"].head())\n",
    "print(\"\\nHF Data (Test):\\n\",     result[\"x_forecast_list\"][0].head())"
   ]
  },
  {
   "cell_type": "markdown",
   "id": "024510ce",
   "metadata": {},
   "source": [
    "### 📐 Exponential Almon Weights:\n",
    "\n",
    "$$ w_k(\\theta_{11}, \\theta_{12}) =\n",
    "\\frac{\n",
    "\\exp(\\theta_{11} \\cdot k + \\theta_{12} \\cdot k^2)\n",
    "}{\n",
    "\\sum_{j=1}^{3} \\exp(\\theta_{11} \\cdot j + \\theta_{12} \\cdot j^2)\n",
    "}\n",
    "\\quad \\text{for } k = 1, 2, 3 $$\n",
    "\n",
    "### 🔧 Parameter Vector:\n",
    "\n",
    "$$ \\Phi = \\begin{bmatrix}\n",
    "c & \\beta_1 & \\theta_{11} & \\theta_{12} & \\lambda\n",
    "\\end{bmatrix}$$"
   ]
  },
  {
   "cell_type": "code",
   "execution_count": null,
   "id": "3308df14",
   "metadata": {},
   "outputs": [],
   "source": [
    "# Fit the model\n",
    "opt_res = midas_model.fit(data_dict = result, poly_list=[\"expalmon\"])\n",
    "\n",
    "# Extract fitted parameters\n",
    "print(opt_res.x)"
   ]
  },
  {
   "cell_type": "code",
   "execution_count": null,
   "id": "23d1399d",
   "metadata": {},
   "outputs": [],
   "source": [
    "# Predict the low-frequency series\n",
    "pred = midas_model.predict(data_dict = result)\n",
    "\n",
    "# Join predictions\n",
    "y_target_df = result[\"y_forecast_target\"].to_frame(name=\"y_target\")\n",
    "forecast_df = y_target_df.join(pred)\n",
    "forecast_df.columns = ['y_target', 'y_forecast']\n",
    "forecast_df"
   ]
  },
  {
   "cell_type": "markdown",
   "id": "54a795fd",
   "metadata": {},
   "source": [
    "## Rolling forecast"
   ]
  },
  {
   "cell_type": "code",
   "execution_count": null,
   "id": "a98c504f",
   "metadata": {},
   "outputs": [],
   "source": [
    "df_rolling, rmse = midas_model.rolling_forecast(start_date = datetime(2011, 3, 1),\n",
    "                                                end_date   = datetime(2014, 12, 1),\n",
    "                                                forecast_horizon = 1,\n",
    "                                                poly_list = [\"expalmon\"],\n",
    "                                                verbose = True)\n",
    "df_rolling"
   ]
  },
  {
   "cell_type": "code",
   "execution_count": null,
   "id": "5a65fc7e",
   "metadata": {},
   "outputs": [],
   "source": [
    "# Plot the predictions\n",
    "import matplotlib.pyplot as plt\n",
    "plt.figure(figsize=(10, 4))\n",
    "plt.plot(df_rolling.index, df_rolling[\"targets\"], label=\"Target\", color='navy', marker='o')\n",
    "plt.plot(df_rolling.index, df_rolling[\"preds\"], label=\"Forecast\", color='darkred', marker='x', linestyle='-.')\n",
    "plt.title(\"MIDAS rolling forecast\")\n",
    "plt.xlabel(\"Date\")\n",
    "plt.ylabel(\"GDP YoY\")\n",
    "plt.legend()\n",
    "plt.grid()\n",
    "plt.show()"
   ]
  },
  {
   "cell_type": "markdown",
   "id": "f20274f5",
   "metadata": {},
   "source": [
    "## Model comparison"
   ]
  },
  {
   "cell_type": "code",
   "execution_count": null,
   "id": "3f96faeb",
   "metadata": {},
   "outputs": [],
   "source": [
    "from MIDAS import MIDAS\n",
    "\n",
    "mod1 = MIDAS(low_freq_series       = df_macro[\"gdp_yoy\"],\n",
    "             high_freq_series_list = [df_macro[\"ip_yoy\"], df_macro[\"lei_yoy\"]],\n",
    "             hf_lags_list          = [\"3m\", \"3m\"], \n",
    "             lf_lags               = 1)\n",
    "\n",
    "df1, rmse1 = mod1.rolling_forecast(start_date = datetime(2011, 3, 1),\n",
    "                                   end_date   = datetime(2014, 12, 1),\n",
    "                                   forecast_horizon = 1,\n",
    "                                   poly_list = [\"expalmon\", \"expalmon\"],\n",
    "                                   verbose = False)"
   ]
  },
  {
   "cell_type": "code",
   "execution_count": null,
   "id": "d3be5aff",
   "metadata": {},
   "outputs": [],
   "source": [
    "mod2 = MIDAS(low_freq_series       = df_macro[\"gdp_yoy\"],\n",
    "             high_freq_series_list = [df_macro[\"lei_yoy\"]],\n",
    "             hf_lags_list          = [\"3m\"], \n",
    "             lf_lags               = 1)\n",
    "\n",
    "df2, rmse2 = mod2.rolling_forecast(start_date = datetime(2011, 3, 1),\n",
    "                                   end_date   = datetime(2014, 12, 1),\n",
    "                                   forecast_horizon = 1,\n",
    "                                   poly_list = [\"expalmon\"],\n",
    "                                   verbose = False)"
   ]
  },
  {
   "cell_type": "code",
   "execution_count": null,
   "id": "133a9123",
   "metadata": {},
   "outputs": [],
   "source": [
    "# Compare RMSE values\n",
    "rmse_df = pd.DataFrame({\n",
    "    'Model': ['IP + LEI', 'LEI'],\n",
    "    'RMSE': [rmse1, rmse2]\n",
    "})\n",
    "rmse_df.set_index('Model', inplace=True)\n",
    "rmse_df.plot(kind='bar', figsize=(6, 4), legend=False)\n",
    "plt.title('RMSE Comparison of MIDAS Models')\n",
    "plt.ylabel('RMSE')\n",
    "plt.xticks(rotation=0)\n",
    "plt.tight_layout()\n",
    "plt.show()"
   ]
  },
  {
   "cell_type": "markdown",
   "id": "857db5b9",
   "metadata": {},
   "source": [
    "## The `midas_compare` function"
   ]
  },
  {
   "cell_type": "code",
   "execution_count": null,
   "id": "6cdacbb6",
   "metadata": {},
   "outputs": [],
   "source": [
    "from MIDAS import midas_compare\n",
    "\n",
    "models = [\n",
    "    {\"name\": \"IP\", \"high_freq_series\": [df_macro[\"ip_yoy\"]], \"polys\": [\"expalmon\"]},\n",
    "    {\"name\": \"LEI\", \"high_freq_series\": [df_macro[\"lei_yoy\"]], \"polys\": [\"expalmon\"]},\n",
    "    {\"name\": \"IP + LEI\", \"high_freq_series\": [df_macro[\"ip_yoy\"], df_macro[\"lei_yoy\"]], \"polys\": [\"expalmon\", \"expalmon\"]}\n",
    "]\n",
    "\n",
    "results = midas_compare(\n",
    "    low_freq_series=df_macro[\"gdp_yoy\"],\n",
    "    model_specs=models,\n",
    "    hf_lags=[\"3m\", \"3m\"],  \n",
    "    lf_lags=1,\n",
    "    forecast_horizon=1,\n",
    "    start_date=datetime(2011, 3, 1),\n",
    "    end_date=datetime(2014, 12, 1),\n",
    "    plot_forecasts=True\n",
    ")"
   ]
  }
 ],
 "metadata": {
  "kernelspec": {
   "display_name": ".venv",
   "language": "python",
   "name": "python3"
  },
  "language_info": {
   "codemirror_mode": {
    "name": "ipython",
    "version": 3
   },
   "file_extension": ".py",
   "mimetype": "text/x-python",
   "name": "python",
   "nbconvert_exporter": "python",
   "pygments_lexer": "ipython3",
   "version": "3.11.11"
  }
 },
 "nbformat": 4,
 "nbformat_minor": 5
}
